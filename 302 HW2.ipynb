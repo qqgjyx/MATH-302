{
 "cells": [
  {
   "cell_type": "code",
   "outputs": [
    {
     "data": {
      "text/plain": "array([1.58113883, 1.22474487])"
     },
     "execution_count": 1,
     "metadata": {},
     "output_type": "execute_result"
    }
   ],
   "source": [
    "import numpy as np\n",
    "\n",
    "# Define the functions of the system\n",
    "def F(x):\n",
    "    return [x[0]**2 + x[1]**2 - 4, x[0]**2 - x[1]**2 - 1]\n",
    "\n",
    "# Define the Jacobian matrix of the system\n",
    "def J_inv(x):\n",
    "    return [[1/4/x[0], 1/4/x[0]], [1/4/x[1], -1/4/x[1]]]\n",
    "\n",
    "# Initial guess\n",
    "x0 = [1.6, 1.2]\n",
    "\n",
    "# Newton's method iteration function\n",
    "def newton_method(F, J_inv, x0, tol=1e-10, max_iter=100):\n",
    "    x = np.array(x0)\n",
    "    for _ in range(max_iter):\n",
    "        Fx = np.array(F(x))\n",
    "        Jx_inv = np.array(J_inv(x))\n",
    "        # Update the guess using the inverse Jacobian\n",
    "        x = x - np.dot(Jx_inv, Fx)\n",
    "        # Check for convergence\n",
    "        if np.linalg.norm(Fx, ord=np.inf) < tol:\n",
    "            return x\n",
    "    raise ValueError('Newton method did not converge')\n",
    "\n",
    "# Perform Newton's method\n",
    "solution = newton_method(F, J_inv, x0)\n",
    "\n",
    "solution\n"
   ],
   "metadata": {
    "collapsed": true,
    "ExecuteTime": {
     "end_time": "2024-04-02T17:57:09.623915Z",
     "start_time": "2024-04-02T17:57:09.547527Z"
    }
   },
   "id": "initial_id",
   "execution_count": 1
  },
  {
   "cell_type": "code",
   "outputs": [
    {
     "data": {
      "text/plain": "array([1.00000153, 0.99999695, 1.00000153])"
     },
     "execution_count": 2,
     "metadata": {},
     "output_type": "execute_result"
    }
   ],
   "source": [
    "# Given matrix A and vector x from the problem\n",
    "A = np.array([[1, 3, 3],\n",
    "              [-3, -5, -3],\n",
    "              [3, 3, 1]]) / 4.0\n",
    "x_true = np.array([1, 1, 1])\n",
    "\n",
    "\n",
    "# Initial guess x0 for the iteration\n",
    "x0 = np.array([1.1,1.1,1.1])\n",
    "\n",
    "# Since (I - A)x = b, we find b given the true solution x\n",
    "b = np.array([-3/4,15/4,-3/4])\n",
    "\n",
    "# Iteration method to solve x_{n+1} = A*x_n + b\n",
    "def iterative_solve(A, b, x0, tol=1e-5, max_iter=1000):\n",
    "    x_n = x0\n",
    "    for i in range(max_iter):\n",
    "        x_n_plus_1 = np.dot(A, x_n) + b\n",
    "        # Check for convergence\n",
    "        if np.linalg.norm(x_n_plus_1 - x_n, ord=np.inf) < tol:\n",
    "            return x_n_plus_1\n",
    "        x_n = x_n_plus_1\n",
    "    raise ValueError(\"The method did not converge\")\n",
    "\n",
    "# Perform the iteration\n",
    "x_approx = iterative_solve(A, b, x0)\n",
    "\n",
    "x_approx"
   ],
   "metadata": {
    "collapsed": false,
    "ExecuteTime": {
     "end_time": "2024-04-02T17:57:09.633717Z",
     "start_time": "2024-04-02T17:57:09.626148Z"
    }
   },
   "id": "afa7ebdafdc512a8",
   "execution_count": 2
  },
  {
   "cell_type": "code",
   "outputs": [],
   "source": [],
   "metadata": {
    "collapsed": false,
    "ExecuteTime": {
     "end_time": "2024-04-02T17:57:09.637668Z",
     "start_time": "2024-04-02T17:57:09.635202Z"
    }
   },
   "id": "e00153ef13fc4cd4",
   "execution_count": 2
  }
 ],
 "metadata": {
  "kernelspec": {
   "display_name": "Python 3",
   "language": "python",
   "name": "python3"
  },
  "language_info": {
   "codemirror_mode": {
    "name": "ipython",
    "version": 2
   },
   "file_extension": ".py",
   "mimetype": "text/x-python",
   "name": "python",
   "nbconvert_exporter": "python",
   "pygments_lexer": "ipython2",
   "version": "2.7.6"
  }
 },
 "nbformat": 4,
 "nbformat_minor": 5
}
