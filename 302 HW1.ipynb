{
 "cells": [
  {
   "cell_type": "code",
   "id": "initial_id",
   "metadata": {
    "collapsed": true,
    "ExecuteTime": {
     "end_time": "2024-03-24T11:44:32.789205Z",
     "start_time": "2024-03-24T11:44:32.305847Z"
    }
   },
   "source": [
    "import numpy as np\n",
    "import math\n",
    "from scipy.misc import derivative\n",
    "from scipy.optimize import minimize_scalar\n",
    "from matplotlib import pyplot as plt"
   ],
   "outputs": [],
   "execution_count": 2
  },
  {
   "cell_type": "markdown",
   "source": [
    "HW1"
   ],
   "metadata": {
    "collapsed": false
   },
   "id": "a58f993e0c423f7b"
  },
  {
   "cell_type": "code",
   "source": [
    "#Problem 1\n",
    "def find_initial_guess_interval(f, start=0, step_size=0.5, max_steps=1000):\n",
    "    \"\"\"\n",
    "    Find an initial guess interval [a, b] of length 1 for the Bisection Method.\n",
    "\n",
    "    Parameters:\n",
    "    - f: The function for which to find the root.\n",
    "    - start: The starting point for the search.\n",
    "    - step_size: The step size to use when moving from the start point.\n",
    "    - max_steps: The maximum number of steps to take from the start point.\n",
    "\n",
    "    Returns:\n",
    "    - A tuple (a, b) representing the interval, or None if no change in sign is found.\n",
    "    \"\"\"\n",
    "    x_prev = start\n",
    "    f_prev = f(x_prev)\n",
    "    for _ in range(max_steps):\n",
    "        # Move to the next point\n",
    "        x_next = x_prev + step_size\n",
    "        f_next = f(x_next)\n",
    "        \n",
    "        # Check if we've found a change in sign\n",
    "        if f_prev * f_next < 0:\n",
    "            # Adjust to ensure the interval is of length 1\n",
    "            a = np.floor(x_prev)\n",
    "            b = a + 1\n",
    "            return (a, b) if f(a) * f(b) < 0 else (b, b + 1)\n",
    "        \n",
    "        # Prepare for the next iteration\n",
    "        x_prev, f_prev = x_next, f_next\n",
    "        \n",
    "        # Invert direction if reaching the end of the step limit\n",
    "        if _ == max_steps // 2:\n",
    "            step_size = -step_size\n",
    "    \n",
    "    print(\"Failed to find a change in sign. Try adjusting the start point or step size.\")\n",
    "    return None\n",
    "\n",
    "def bisection_method(f, a, b, tol=1e-5, max_iterations=1000):\n",
    "    if f(a) * f(b) >= 0:\n",
    "        print(\"Bisection method fails.\")\n",
    "        return None\n",
    "    a_n = a\n",
    "    b_n = b\n",
    "    for n in range(1, max_iterations + 1):\n",
    "        x_n = (a_n + b_n) / 2\n",
    "        f_x_n = f(x_n)\n",
    "        if f(a_n) * f_x_n < 0:\n",
    "            b_n = x_n\n",
    "        elif f(b_n) * f_x_n < 0:\n",
    "            a_n = x_n\n",
    "        elif f_x_n == 0:\n",
    "            print(\"Found exact solution.\")\n",
    "            return x_n\n",
    "        else:\n",
    "            print(\"Bisection method fails.\")\n",
    "            return None\n",
    "        if abs(b - a)/2**n <= tol:  #e_n <= epsilon; abs(b_n - a_n) <= tol can also work\n",
    "            return x_n\n",
    "    print(\"Exceeded maximum iterations.\")\n",
    "    return (a_n + b_n) / 2\n",
    "\n",
    "def equation1(x): return np.exp(x)-3*x**2\n",
    "def equation2(x): return x**3-x**2-x-1\n",
    "def equation3(x): return np.exp(x)-(1/(0.1+x**2))\n",
    "def equation4(x): return x-1-0.3*np.cos(x)\n",
    "\n",
    "# Find initial guess intervals for each equation\n",
    "interval1 = find_initial_guess_interval(equation1)\n",
    "interval2 = find_initial_guess_interval(equation2)\n",
    "interval3 = find_initial_guess_interval(equation3)\n",
    "interval4 = find_initial_guess_interval(equation4)\n",
    "\n",
    "# Apply the bisection method using the found intervals and print results\n",
    "def process_equation(equation, interval, equation_number):\n",
    "    if interval:\n",
    "        root = bisection_method(equation, *interval)\n",
    "        print(f\"Equation {equation_number}: Interval found is {interval}. The root found is: {root}\")\n",
    "    else:\n",
    "        print(f\"Equation {equation_number}: No valid interval found.\")\n",
    "\n",
    "process_equation(equation1, interval1, 1)\n",
    "process_equation(equation2, interval2, 2)\n",
    "process_equation(equation3, interval3, 3)\n",
    "process_equation(equation4, interval4, 4)"
   ],
   "metadata": {
    "collapsed": false,
    "ExecuteTime": {
     "end_time": "2024-03-24T12:21:36.184292Z",
     "start_time": "2024-03-24T12:21:36.176161Z"
    }
   },
   "id": "68748214e0257a90",
   "outputs": [
    {
     "name": "stdout",
     "output_type": "stream",
     "text": [
      "Equation 1: Interval found is (0.0, 1.0). The root found is: 0.9100112915039062\n",
      "Equation 2: Interval found is (1.0, 2.0). The root found is: 1.8392868041992188\n",
      "Equation 3: Interval found is (0.0, 1.0). The root found is: 0.6497573852539062\n",
      "Equation 4: Interval found is (1.0, 2.0). The root found is: 1.1284255981445312\n"
     ]
    }
   ],
   "execution_count": 10
  },
  {
   "cell_type": "code",
   "outputs": [
    {
     "data": {
      "text/plain": "{<function __main__.equation1(x)>: 0.9100075724887138,\n <function __main__.equation2(x)>: 1.8392867552141632,\n <function __main__.equation3(x)>: 0.6497506818002006,\n <function __main__.equation4(x)>: 1.128425092992236}"
     },
     "execution_count": 13,
     "metadata": {},
     "output_type": "execute_result"
    }
   ],
   "source": [
    "def newton_method(f, df, x0, tol=1e-5, max_iter=10000):\n",
    "    \"\"\"\n",
    "    Finds a root of the function f(x) = 0 using Newton's method.\n",
    "    \n",
    "    Parameters:\n",
    "    - f: The function for which we are trying to approximate a root.\n",
    "    - df: The derivative of the function f.\n",
    "    - x0: Initial guess for a root of f(x).\n",
    "    - tol: The tolerance for the approximation of the root (default is 1e-5).\n",
    "    - max_iter: The maximum number of iterations (default is 100).\n",
    "    \n",
    "    Returns:\n",
    "    - The approximation for the root of f(x) = 0.\n",
    "    \"\"\"\n",
    "    xn = x0\n",
    "    for n in range(max_iter):\n",
    "        fxn = f(xn)\n",
    "        dfxn = df(xn)\n",
    "        if dfxn == 0:\n",
    "            print(\"Zero derivative. No solution found.\")\n",
    "            return None\n",
    "        h = fxn/dfxn\n",
    "        xn_next = xn - h\n",
    "        if abs(h) < tol:\n",
    "            return xn_next     \n",
    "        xn = xn_next\n",
    "    print(f\"Failed to converge to the requested tolerance or precision within {max_iter} iterations.\")\n",
    "    return None\n",
    "\n",
    "# Define the derivatives of the equations\n",
    "df1 = lambda x: np.exp(x) - 6*x\n",
    "df2 = lambda x: 3*x**2 - 2*x - 1\n",
    "df3 = lambda x: np.exp(x) + 2*x/(0.1 + x**2)**2\n",
    "df4 = lambda x: 1 + 0.3*np.sin(x)\n",
    "\n",
    "# Use midpoint of intervals as initial guesses for Newton's method\n",
    "initial_guesses = {\n",
    "    equation1: (interval1[0] + interval1[1]) / 2 if interval1 else None,\n",
    "    equation2: 1.8392868041992188,\n",
    "    equation3: (interval3[0] + interval3[1]) / 2 if interval3 else None,\n",
    "    equation4: (interval4[0] + interval4[1]) / 2 if interval4 else None,\n",
    "}\n",
    "\n",
    "# Map equations to their derivatives\n",
    "equation_derivatives = {\n",
    "    equation1: df1,\n",
    "    equation2: df2,\n",
    "    equation3: df3,\n",
    "    equation4: df4,\n",
    "}\n",
    "\n",
    "# Apply Newton's method using the initial guesses\n",
    "roots_newton = {}\n",
    "for equation, df in equation_derivatives.items():\n",
    "    initial_guess = initial_guesses[equation]\n",
    "    if initial_guess is not None:  # Ensure we have an initial guess\n",
    "        root = newton_method(equation, df, initial_guess)\n",
    "        roots_newton[equation] = root\n",
    "    else:\n",
    "        roots_newton[equation] = \"No valid initial guess found.\"\n",
    "\n",
    "roots_newton\n"
   ],
   "metadata": {
    "collapsed": false,
    "ExecuteTime": {
     "end_time": "2024-03-24T12:23:07.526143Z",
     "start_time": "2024-03-24T12:23:07.521099Z"
    }
   },
   "id": "edb33d5e4be58aaa",
   "execution_count": 13
  },
  {
   "cell_type": "code",
   "outputs": [],
   "source": [],
   "metadata": {
    "collapsed": false,
    "ExecuteTime": {
     "end_time": "2024-03-24T11:44:32.813224Z",
     "start_time": "2024-03-24T11:44:32.810827Z"
    }
   },
   "id": "84af63b0d5403161",
   "execution_count": 4
  }
 ],
 "metadata": {
  "kernelspec": {
   "display_name": "Python 3",
   "language": "python",
   "name": "python3"
  },
  "language_info": {
   "codemirror_mode": {
    "name": "ipython",
    "version": 2
   },
   "file_extension": ".py",
   "mimetype": "text/x-python",
   "name": "python",
   "nbconvert_exporter": "python",
   "pygments_lexer": "ipython2",
   "version": "2.7.6"
  }
 },
 "nbformat": 4,
 "nbformat_minor": 5
}
