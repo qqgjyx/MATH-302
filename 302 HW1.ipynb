{
 "cells": [
  {
   "cell_type": "code",
   "execution_count": 2,
   "id": "initial_id",
   "metadata": {
    "collapsed": true,
    "ExecuteTime": {
     "end_time": "2024-03-23T11:26:15.800832Z",
     "start_time": "2024-03-23T11:26:10.105318Z"
    }
   },
   "outputs": [],
   "source": [
    "import numpy as np\n",
    "from matplotlib import pyplot as plt"
   ]
  },
  {
   "cell_type": "markdown",
   "source": [
    "HW1"
   ],
   "metadata": {
    "collapsed": false
   },
   "id": "a58f993e0c423f7b"
  },
  {
   "cell_type": "code",
   "outputs": [
    {
     "name": "stdout",
     "output_type": "stream",
     "text": [
      "The root found is: 0.9100074768066406\n",
      "The root found is: 1.8392829895019531\n",
      "The root found is: 0.6497535705566406\n",
      "The root found is: 1.1284217834472656\n"
     ]
    }
   ],
   "source": [
    "#Problem 1\n",
    "def bisection_method(f, a, b, tol=1e-5, max_iterations=1000):\n",
    "    if f(a) * f(b) >= 0:\n",
    "        print(\"Bisection method fails.\")\n",
    "        return None\n",
    "    for n in range(max_iterations):\n",
    "        c = (a + b) / 2\n",
    "        f_c = f(c)\n",
    "        if f(a) * f_c < 0:\n",
    "            b = c\n",
    "        elif f(b) * f_c < 0:\n",
    "            a = c\n",
    "        elif f_c == 0:\n",
    "            print(\"Found exact solution.\")\n",
    "            return c\n",
    "        else:\n",
    "            print(\"Bisection method fails.\")\n",
    "            return None\n",
    "        if abs(b - a) < tol:\n",
    "            return (a + b) / 2\n",
    "    print(\"Exceeded maximum iterations.\")\n",
    "    return (a + b) / 2\n",
    "\n",
    "def equation1(x):\n",
    "    return np.exp(x)-3*x**2\n",
    "def equation2(x):\n",
    "    return x**3-x**2-x-1\n",
    "def equation3(x):\n",
    "    return np.exp(x)-(1/(0.1+x**2))\n",
    "def equation4(x):\n",
    "    return x-1-0.3*np.cos(x)\n",
    "\n",
    "# Find the root\n",
    "root = bisection_method(equation1, 0, 1)\n",
    "print(f\"The root found is: {root}\")\n",
    "root = bisection_method(equation2, 1, 2)\n",
    "print(f\"The root found is: {root}\")\n",
    "root = bisection_method(equation3, 0, 1)\n",
    "print(f\"The root found is: {root}\")\n",
    "root = bisection_method(equation4, 1, 2)\n",
    "print(f\"The root found is: {root}\")"
   ],
   "metadata": {
    "collapsed": false,
    "ExecuteTime": {
     "end_time": "2024-03-23T11:43:19.674631Z",
     "start_time": "2024-03-23T11:43:19.665523Z"
    }
   },
   "id": "68748214e0257a90",
   "execution_count": 21
  },
  {
   "cell_type": "code",
   "outputs": [],
   "source": [],
   "metadata": {
    "collapsed": false
   },
   "id": "edb33d5e4be58aaa"
  }
 ],
 "metadata": {
  "kernelspec": {
   "display_name": "Python 3",
   "language": "python",
   "name": "python3"
  },
  "language_info": {
   "codemirror_mode": {
    "name": "ipython",
    "version": 2
   },
   "file_extension": ".py",
   "mimetype": "text/x-python",
   "name": "python",
   "nbconvert_exporter": "python",
   "pygments_lexer": "ipython2",
   "version": "2.7.6"
  }
 },
 "nbformat": 4,
 "nbformat_minor": 5
}
