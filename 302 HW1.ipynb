{
 "cells": [
  {
   "cell_type": "code",
   "id": "initial_id",
   "metadata": {
    "collapsed": true,
    "ExecuteTime": {
     "end_time": "2024-03-24T07:01:03.157472Z",
     "start_time": "2024-03-24T07:01:02.722445Z"
    }
   },
   "source": [
    "import numpy as np\n",
    "from scipy.misc import derivative\n",
    "from matplotlib import pyplot as plt"
   ],
   "outputs": [],
   "execution_count": 1
  },
  {
   "cell_type": "markdown",
   "source": [
    "HW1"
   ],
   "metadata": {
    "collapsed": false
   },
   "id": "a58f993e0c423f7b"
  },
  {
   "cell_type": "code",
   "source": [
    "#Problem 1\n",
    "def find_initial_guess_interval(f, start=0, step_size=0.5, max_steps=1000):\n",
    "    \"\"\"\n",
    "    Find an initial guess interval [a, b] of length 1 for the Bisection Method.\n",
    "\n",
    "    Parameters:\n",
    "    - f: The function for which to find the root.\n",
    "    - start: The starting point for the search.\n",
    "    - step_size: The step size to use when moving from the start point.\n",
    "    - max_steps: The maximum number of steps to take from the start point.\n",
    "\n",
    "    Returns:\n",
    "    - A tuple (a, b) representing the interval, or None if no change in sign is found.\n",
    "    \"\"\"\n",
    "    x_prev = start\n",
    "    f_prev = f(x_prev)\n",
    "    for _ in range(max_steps):\n",
    "        # Move to the next point\n",
    "        x_next = x_prev + step_size\n",
    "        f_next = f(x_next)\n",
    "        \n",
    "        # Check if we've found a change in sign\n",
    "        if f_prev * f_next < 0:\n",
    "            # Adjust to ensure the interval is of length 1\n",
    "            a = np.floor(x_prev)\n",
    "            b = a + 1\n",
    "            return (a, b) if f(a) * f(b) < 0 else (b, b + 1)\n",
    "        \n",
    "        # Prepare for the next iteration\n",
    "        x_prev, f_prev = x_next, f_next\n",
    "        \n",
    "        # Invert direction if reaching the end of the step limit\n",
    "        if _ == max_steps // 2:\n",
    "            step_size = -step_size\n",
    "    \n",
    "    print(\"Failed to find a change in sign. Try adjusting the start point or step size.\")\n",
    "    return None\n",
    "\n",
    "def bisection_method(f, a, b, tol=1e-5, max_iterations=1000):\n",
    "    if f(a) * f(b) >= 0:\n",
    "        print(\"Bisection method fails.\")\n",
    "        return None\n",
    "    a_n = a\n",
    "    b_n = b\n",
    "    for n in range(1, max_iterations + 1):\n",
    "        x_n = (a_n + b_n) / 2\n",
    "        f_x_n = f(x_n)\n",
    "        if f(a_n) * f_x_n < 0:\n",
    "            b_n = x_n\n",
    "        elif f(b_n) * f_x_n < 0:\n",
    "            a_n = x_n\n",
    "        elif f_x_n == 0:\n",
    "            print(\"Found exact solution.\")\n",
    "            return x_n\n",
    "        else:\n",
    "            print(\"Bisection method fails.\")\n",
    "            return None\n",
    "        if abs(b - a)/2**n <= tol:  #e_n <= epsilon; abs(b_n - a_n) <= tol can also work\n",
    "            return x_n\n",
    "    print(\"Exceeded maximum iterations.\")\n",
    "    return (a_n + b_n) / 2\n",
    "\n",
    "def equation1(x): return np.exp(x)-3*x**2\n",
    "def equation2(x): return x**3-x**2-x-1\n",
    "def equation3(x): return np.exp(x)-(1/(0.1+x**2))\n",
    "def equation4(x): return x-1-0.3*np.cos(x)\n",
    "\n",
    "# Find initial guess intervals for each equation\n",
    "interval1 = find_initial_guess_interval(equation1)\n",
    "interval2 = find_initial_guess_interval(equation2)\n",
    "interval3 = find_initial_guess_interval(equation3)\n",
    "interval4 = find_initial_guess_interval(equation4)\n",
    "\n",
    "# Apply the bisection method using the found intervals and print results\n",
    "def process_equation(equation, interval, equation_number):\n",
    "    if interval:\n",
    "        root = bisection_method(equation, *interval)\n",
    "        print(f\"Equation {equation_number}: Interval found is {interval}. The root found is: {root}\")\n",
    "    else:\n",
    "        print(f\"Equation {equation_number}: No valid interval found.\")\n",
    "\n",
    "process_equation(equation1, interval1, 1)\n",
    "process_equation(equation2, interval2, 2)\n",
    "process_equation(equation3, interval3, 3)\n",
    "process_equation(equation4, interval4, 4)"
   ],
   "metadata": {
    "collapsed": false,
    "ExecuteTime": {
     "end_time": "2024-03-24T07:39:03.819893Z",
     "start_time": "2024-03-24T07:39:03.814816Z"
    }
   },
   "id": "68748214e0257a90",
   "outputs": [
    {
     "name": "stdout",
     "output_type": "stream",
     "text": [
      "Equation 1: Interval found is (0.0, 1.0). The root found is: 0.9100112915039062\n",
      "Equation 2: Interval found is (1.0, 2.0). The root found is: 1.8392868041992188\n",
      "Equation 3: Interval found is (0.0, 1.0). The root found is: 0.6497573852539062\n",
      "Equation 4: Interval found is (1.0, 2.0). The root found is: 1.1284255981445312\n"
     ]
    }
   ],
   "execution_count": 17
  },
  {
   "cell_type": "code",
   "outputs": [],
   "source": [
    "def newton_method(f, x0, tol=1e-5, max_iterations=1000):\n",
    "    \"\"\"\n",
    "    Find the root of the function f(x) using Newton's method.\n",
    "    \n",
    "    Parameters:\n",
    "    - f: The function for which to find the root.\n",
    "    - x0: Initial guess for the root.\n",
    "    - tol: Tolerance for convergence, the function stops if the difference between successive \n",
    "           approximations is less than tol.\n",
    "    - max_iterations: Maximum number of iterations to perform.\n",
    "    \n",
    "    Returns:\n",
    "    - x: The approximated root of the function.\n",
    "    \"\"\"\n",
    "    xn = x0\n",
    "    for n in range(max_iterations):\n",
    "        fxn = f(xn)\n",
    "        if abs(fxn) == 0:\n",
    "            print(f\"Found a root at {xn}, after {n} iterations.\")\n",
    "            return xn\n",
    "        Dfxn = derivative(f, xn, dx=1e-6)\n",
    "        if Dfxn == 0:\n",
    "            print(\"Zero derivative. No solution found.\")\n",
    "            return None\n",
    "        xn_next = xn - fxn / Dfxn\n",
    "        if abs(xn_next - xn) < tol:\n",
    "            print(f\"Convergence after {n+1} iterations, root: {xn_next}.\")\n",
    "            return xn_next\n",
    "        xn = xn_next\n",
    "    print(\"Exceeded maximum iterations. No solution found.\")\n",
    "    return None\n",
    "\n",
    "# Example usage\n",
    "def example_function(x):\n",
    "    return x**2 - 612  # Example: Find the square root of 612\n",
    "\n",
    "root = newton_method(example_function, x0=10)\n"
   ],
   "metadata": {
    "collapsed": false
   },
   "id": "edb33d5e4be58aaa",
   "execution_count": null
  }
 ],
 "metadata": {
  "kernelspec": {
   "display_name": "Python 3",
   "language": "python",
   "name": "python3"
  },
  "language_info": {
   "codemirror_mode": {
    "name": "ipython",
    "version": 2
   },
   "file_extension": ".py",
   "mimetype": "text/x-python",
   "name": "python",
   "nbconvert_exporter": "python",
   "pygments_lexer": "ipython2",
   "version": "2.7.6"
  }
 },
 "nbformat": 4,
 "nbformat_minor": 5
}
